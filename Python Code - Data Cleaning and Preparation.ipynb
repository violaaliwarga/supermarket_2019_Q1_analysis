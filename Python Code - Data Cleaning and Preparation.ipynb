{
 "cells": [
  {
   "cell_type": "markdown",
   "id": "46429343-181d-4caa-8fa5-5d42c0df3e72",
   "metadata": {},
   "source": [
    "# Supermarket Sales Data Analysis: January 2019 - March 2019"
   ]
  },
  {
   "cell_type": "markdown",
   "id": "2362ae32-00b4-46b7-be3c-2c4b5b2dbb27",
   "metadata": {},
   "source": [
    "## Setting-Up the Environment"
   ]
  },
  {
   "cell_type": "code",
   "execution_count": 3,
   "id": "494f9ccd-0f70-49c1-8d95-b9624ab9a9da",
   "metadata": {},
   "outputs": [],
   "source": [
    "import pandas as pd\n",
    "import numpy as np\n",
    "import matplotlib.pyplot as plt\n",
    "import seaborn as sns\n"
   ]
  },
  {
   "cell_type": "markdown",
   "id": "082cfe0f-94f1-4f5d-ac86-39be7d7f721e",
   "metadata": {},
   "source": [
    "## Initial Data Exploration"
   ]
  },
  {
   "cell_type": "code",
   "execution_count": 5,
   "id": "786ea797-5565-4ff8-8665-6f5ebac69bc9",
   "metadata": {},
   "outputs": [],
   "source": [
    "df = pd.read_csv('supermarket_sales.csv')"
   ]
  },
  {
   "cell_type": "code",
   "execution_count": 6,
   "id": "4a3d24bd-b003-4cb4-a9dd-7e1a40b2908b",
   "metadata": {},
   "outputs": [
    {
     "data": {
      "text/html": [
       "<div>\n",
       "<style scoped>\n",
       "    .dataframe tbody tr th:only-of-type {\n",
       "        vertical-align: middle;\n",
       "    }\n",
       "\n",
       "    .dataframe tbody tr th {\n",
       "        vertical-align: top;\n",
       "    }\n",
       "\n",
       "    .dataframe thead th {\n",
       "        text-align: right;\n",
       "    }\n",
       "</style>\n",
       "<table border=\"1\" class=\"dataframe\">\n",
       "  <thead>\n",
       "    <tr style=\"text-align: right;\">\n",
       "      <th></th>\n",
       "      <th>invoice_id</th>\n",
       "      <th>branch</th>\n",
       "      <th>city</th>\n",
       "      <th>customer</th>\n",
       "      <th>gender</th>\n",
       "      <th>product_line</th>\n",
       "      <th>unit_price</th>\n",
       "      <th>quantity</th>\n",
       "      <th>tax</th>\n",
       "      <th>total</th>\n",
       "      <th>date</th>\n",
       "      <th>time</th>\n",
       "      <th>payment</th>\n",
       "      <th>cogs</th>\n",
       "      <th>gross_margin</th>\n",
       "      <th>gross_income</th>\n",
       "      <th>rating</th>\n",
       "    </tr>\n",
       "  </thead>\n",
       "  <tbody>\n",
       "    <tr>\n",
       "      <th>0</th>\n",
       "      <td>750-67-8428</td>\n",
       "      <td>A</td>\n",
       "      <td>Yangon</td>\n",
       "      <td>Member</td>\n",
       "      <td>Female</td>\n",
       "      <td>Health and beauty</td>\n",
       "      <td>74.69</td>\n",
       "      <td>7.0</td>\n",
       "      <td>26.1415</td>\n",
       "      <td>548.9715</td>\n",
       "      <td>1/5/19</td>\n",
       "      <td>13:08</td>\n",
       "      <td>Ewallet</td>\n",
       "      <td>522.83</td>\n",
       "      <td>4.761905</td>\n",
       "      <td>26.1415</td>\n",
       "      <td>9.1</td>\n",
       "    </tr>\n",
       "    <tr>\n",
       "      <th>1</th>\n",
       "      <td>226-31-3081</td>\n",
       "      <td>C</td>\n",
       "      <td>Naypyitaw</td>\n",
       "      <td>Normal</td>\n",
       "      <td>Female</td>\n",
       "      <td>Electronic accessories</td>\n",
       "      <td>15.28</td>\n",
       "      <td>5.0</td>\n",
       "      <td>3.8200</td>\n",
       "      <td>80.2200</td>\n",
       "      <td>3/8/19</td>\n",
       "      <td>10:29</td>\n",
       "      <td>Cash</td>\n",
       "      <td>76.40</td>\n",
       "      <td>4.761905</td>\n",
       "      <td>3.8200</td>\n",
       "      <td>9.6</td>\n",
       "    </tr>\n",
       "    <tr>\n",
       "      <th>2</th>\n",
       "      <td>631-41-3108</td>\n",
       "      <td>A</td>\n",
       "      <td>Yangon</td>\n",
       "      <td>Normal</td>\n",
       "      <td>Male</td>\n",
       "      <td>Home and lifestyle</td>\n",
       "      <td>46.33</td>\n",
       "      <td>7.0</td>\n",
       "      <td>16.2155</td>\n",
       "      <td>340.5255</td>\n",
       "      <td>3/3/19</td>\n",
       "      <td>13:23</td>\n",
       "      <td>Credit card</td>\n",
       "      <td>324.31</td>\n",
       "      <td>4.761905</td>\n",
       "      <td>16.2155</td>\n",
       "      <td>7.4</td>\n",
       "    </tr>\n",
       "    <tr>\n",
       "      <th>3</th>\n",
       "      <td>123-19-1176</td>\n",
       "      <td>A</td>\n",
       "      <td>Yangon</td>\n",
       "      <td>Member</td>\n",
       "      <td>Male</td>\n",
       "      <td>Health and beauty</td>\n",
       "      <td>58.22</td>\n",
       "      <td>8.0</td>\n",
       "      <td>23.2880</td>\n",
       "      <td>489.0480</td>\n",
       "      <td>1/27/19</td>\n",
       "      <td>20:33</td>\n",
       "      <td>Ewallet</td>\n",
       "      <td>465.76</td>\n",
       "      <td>4.761905</td>\n",
       "      <td>23.2880</td>\n",
       "      <td>8.4</td>\n",
       "    </tr>\n",
       "    <tr>\n",
       "      <th>4</th>\n",
       "      <td>373-73-7910</td>\n",
       "      <td>A</td>\n",
       "      <td>Yangon</td>\n",
       "      <td>Normal</td>\n",
       "      <td>Male</td>\n",
       "      <td>Sports and travel</td>\n",
       "      <td>86.31</td>\n",
       "      <td>7.0</td>\n",
       "      <td>30.2085</td>\n",
       "      <td>634.3785</td>\n",
       "      <td>2/8/19</td>\n",
       "      <td>10:37</td>\n",
       "      <td>Ewallet</td>\n",
       "      <td>604.17</td>\n",
       "      <td>4.761905</td>\n",
       "      <td>30.2085</td>\n",
       "      <td>5.3</td>\n",
       "    </tr>\n",
       "  </tbody>\n",
       "</table>\n",
       "</div>"
      ],
      "text/plain": [
       "    invoice_id branch       city customer  gender            product_line  \\\n",
       "0  750-67-8428      A     Yangon   Member  Female       Health and beauty   \n",
       "1  226-31-3081      C  Naypyitaw   Normal  Female  Electronic accessories   \n",
       "2  631-41-3108      A     Yangon   Normal    Male      Home and lifestyle   \n",
       "3  123-19-1176      A     Yangon   Member    Male       Health and beauty   \n",
       "4  373-73-7910      A     Yangon   Normal    Male       Sports and travel   \n",
       "\n",
       "   unit_price  quantity      tax     total     date   time      payment  \\\n",
       "0       74.69       7.0  26.1415  548.9715   1/5/19  13:08      Ewallet   \n",
       "1       15.28       5.0   3.8200   80.2200   3/8/19  10:29         Cash   \n",
       "2       46.33       7.0  16.2155  340.5255   3/3/19  13:23  Credit card   \n",
       "3       58.22       8.0  23.2880  489.0480  1/27/19  20:33      Ewallet   \n",
       "4       86.31       7.0  30.2085  634.3785   2/8/19  10:37      Ewallet   \n",
       "\n",
       "     cogs  gross_margin  gross_income  rating  \n",
       "0  522.83      4.761905       26.1415     9.1  \n",
       "1   76.40      4.761905        3.8200     9.6  \n",
       "2  324.31      4.761905       16.2155     7.4  \n",
       "3  465.76      4.761905       23.2880     8.4  \n",
       "4  604.17      4.761905       30.2085     5.3  "
      ]
     },
     "execution_count": 6,
     "metadata": {},
     "output_type": "execute_result"
    }
   ],
   "source": [
    "df.head()"
   ]
  },
  {
   "cell_type": "code",
   "execution_count": 7,
   "id": "2245890b-59f1-4182-8569-a913e649f424",
   "metadata": {},
   "outputs": [
    {
     "data": {
      "text/html": [
       "<div>\n",
       "<style scoped>\n",
       "    .dataframe tbody tr th:only-of-type {\n",
       "        vertical-align: middle;\n",
       "    }\n",
       "\n",
       "    .dataframe tbody tr th {\n",
       "        vertical-align: top;\n",
       "    }\n",
       "\n",
       "    .dataframe thead th {\n",
       "        text-align: right;\n",
       "    }\n",
       "</style>\n",
       "<table border=\"1\" class=\"dataframe\">\n",
       "  <thead>\n",
       "    <tr style=\"text-align: right;\">\n",
       "      <th></th>\n",
       "      <th>invoice_id</th>\n",
       "      <th>branch</th>\n",
       "      <th>city</th>\n",
       "      <th>customer</th>\n",
       "      <th>gender</th>\n",
       "      <th>product_line</th>\n",
       "      <th>unit_price</th>\n",
       "      <th>quantity</th>\n",
       "      <th>tax</th>\n",
       "      <th>total</th>\n",
       "      <th>date</th>\n",
       "      <th>time</th>\n",
       "      <th>payment</th>\n",
       "      <th>cogs</th>\n",
       "      <th>gross_margin</th>\n",
       "      <th>gross_income</th>\n",
       "      <th>rating</th>\n",
       "    </tr>\n",
       "  </thead>\n",
       "  <tbody>\n",
       "    <tr>\n",
       "      <th>998</th>\n",
       "      <td>347-56-2442</td>\n",
       "      <td>A</td>\n",
       "      <td>Yangon</td>\n",
       "      <td>Normal</td>\n",
       "      <td>Male</td>\n",
       "      <td>Home and lifestyle</td>\n",
       "      <td>65.82</td>\n",
       "      <td>1.0</td>\n",
       "      <td>3.291</td>\n",
       "      <td>69.111</td>\n",
       "      <td>2/22/19</td>\n",
       "      <td>15:33</td>\n",
       "      <td>Cash</td>\n",
       "      <td>65.82</td>\n",
       "      <td>4.761905</td>\n",
       "      <td>3.291</td>\n",
       "      <td>4.1</td>\n",
       "    </tr>\n",
       "    <tr>\n",
       "      <th>999</th>\n",
       "      <td>849-09-3807</td>\n",
       "      <td>A</td>\n",
       "      <td>Yangon</td>\n",
       "      <td>Member</td>\n",
       "      <td>Female</td>\n",
       "      <td>Fashion accessories</td>\n",
       "      <td>88.34</td>\n",
       "      <td>7.0</td>\n",
       "      <td>30.919</td>\n",
       "      <td>649.299</td>\n",
       "      <td>2/18/19</td>\n",
       "      <td>13:28</td>\n",
       "      <td>Cash</td>\n",
       "      <td>618.38</td>\n",
       "      <td>4.761905</td>\n",
       "      <td>30.919</td>\n",
       "      <td>6.6</td>\n",
       "    </tr>\n",
       "    <tr>\n",
       "      <th>1000</th>\n",
       "      <td>849-09-3807</td>\n",
       "      <td>A</td>\n",
       "      <td>Yangon</td>\n",
       "      <td>Member</td>\n",
       "      <td>Female</td>\n",
       "      <td>Fashion accessories</td>\n",
       "      <td>88.34</td>\n",
       "      <td>7.0</td>\n",
       "      <td>30.919</td>\n",
       "      <td>649.299</td>\n",
       "      <td>2/18/19</td>\n",
       "      <td>13:28</td>\n",
       "      <td>Cash</td>\n",
       "      <td>618.38</td>\n",
       "      <td>4.761905</td>\n",
       "      <td>30.919</td>\n",
       "      <td>6.6</td>\n",
       "    </tr>\n",
       "    <tr>\n",
       "      <th>1001</th>\n",
       "      <td>745-74-0715</td>\n",
       "      <td>A</td>\n",
       "      <td>Yangon</td>\n",
       "      <td>Normal</td>\n",
       "      <td>Male</td>\n",
       "      <td>Electronic accessories</td>\n",
       "      <td>NaN</td>\n",
       "      <td>2.0</td>\n",
       "      <td>5.803</td>\n",
       "      <td>121.863</td>\n",
       "      <td>3/10/19</td>\n",
       "      <td>20:46</td>\n",
       "      <td>Ewallet</td>\n",
       "      <td>116.06</td>\n",
       "      <td>4.761905</td>\n",
       "      <td>5.803</td>\n",
       "      <td>8.8</td>\n",
       "    </tr>\n",
       "    <tr>\n",
       "      <th>1002</th>\n",
       "      <td>452-04-8808</td>\n",
       "      <td>B</td>\n",
       "      <td>Mandalay</td>\n",
       "      <td>Normal</td>\n",
       "      <td>Male</td>\n",
       "      <td>Electronic accessories</td>\n",
       "      <td>87.08</td>\n",
       "      <td>NaN</td>\n",
       "      <td>30.478</td>\n",
       "      <td>640.038</td>\n",
       "      <td>1/26/19</td>\n",
       "      <td>15:17</td>\n",
       "      <td>Cash</td>\n",
       "      <td>609.56</td>\n",
       "      <td>4.761905</td>\n",
       "      <td>30.478</td>\n",
       "      <td>5.5</td>\n",
       "    </tr>\n",
       "  </tbody>\n",
       "</table>\n",
       "</div>"
      ],
      "text/plain": [
       "       invoice_id branch      city customer  gender            product_line  \\\n",
       "998   347-56-2442      A    Yangon   Normal    Male      Home and lifestyle   \n",
       "999   849-09-3807      A    Yangon   Member  Female     Fashion accessories   \n",
       "1000  849-09-3807      A    Yangon   Member  Female     Fashion accessories   \n",
       "1001  745-74-0715      A    Yangon   Normal    Male  Electronic accessories   \n",
       "1002  452-04-8808      B  Mandalay   Normal    Male  Electronic accessories   \n",
       "\n",
       "      unit_price  quantity     tax    total     date   time  payment    cogs  \\\n",
       "998        65.82       1.0   3.291   69.111  2/22/19  15:33     Cash   65.82   \n",
       "999        88.34       7.0  30.919  649.299  2/18/19  13:28     Cash  618.38   \n",
       "1000       88.34       7.0  30.919  649.299  2/18/19  13:28     Cash  618.38   \n",
       "1001         NaN       2.0   5.803  121.863  3/10/19  20:46  Ewallet  116.06   \n",
       "1002       87.08       NaN  30.478  640.038  1/26/19  15:17     Cash  609.56   \n",
       "\n",
       "      gross_margin  gross_income  rating  \n",
       "998       4.761905         3.291     4.1  \n",
       "999       4.761905        30.919     6.6  \n",
       "1000      4.761905        30.919     6.6  \n",
       "1001      4.761905         5.803     8.8  \n",
       "1002      4.761905        30.478     5.5  "
      ]
     },
     "execution_count": 7,
     "metadata": {},
     "output_type": "execute_result"
    }
   ],
   "source": [
    "df.tail()"
   ]
  },
  {
   "cell_type": "code",
   "execution_count": 8,
   "id": "185ac59e-b202-466a-aaf8-bf935a698ddc",
   "metadata": {},
   "outputs": [
    {
     "name": "stdout",
     "output_type": "stream",
     "text": [
      "<class 'pandas.core.frame.DataFrame'>\n",
      "RangeIndex: 1003 entries, 0 to 1002\n",
      "Data columns (total 17 columns):\n",
      " #   Column        Non-Null Count  Dtype  \n",
      "---  ------        --------------  -----  \n",
      " 0   invoice_id    1003 non-null   object \n",
      " 1   branch        1003 non-null   object \n",
      " 2   city          1003 non-null   object \n",
      " 3   customer      924 non-null    object \n",
      " 4   gender        1003 non-null   object \n",
      " 5   product_line  960 non-null    object \n",
      " 6   unit_price    996 non-null    float64\n",
      " 7   quantity      983 non-null    float64\n",
      " 8   tax           1003 non-null   float64\n",
      " 9   total         1003 non-null   float64\n",
      " 10  date          1003 non-null   object \n",
      " 11  time          1003 non-null   object \n",
      " 12  payment       1003 non-null   object \n",
      " 13  cogs          1003 non-null   float64\n",
      " 14  gross_margin  1003 non-null   float64\n",
      " 15  gross_income  1003 non-null   float64\n",
      " 16  rating        1003 non-null   float64\n",
      "dtypes: float64(8), object(9)\n",
      "memory usage: 133.3+ KB\n"
     ]
    }
   ],
   "source": [
    "df.info()"
   ]
  },
  {
   "cell_type": "code",
   "execution_count": 9,
   "id": "41610fa3-a957-46f9-9f9d-0733ce35de17",
   "metadata": {},
   "outputs": [
    {
     "name": "stderr",
     "output_type": "stream",
     "text": [
      "/var/folders/x9/8yncv2h56z39xy5j_7yfz6cr0000gn/T/ipykernel_14524/2370506791.py:1: UserWarning: Could not infer format, so each element will be parsed individually, falling back to `dateutil`. To ensure parsing is consistent and as-expected, please specify a format.\n",
      "  df['date'] = pd.to_datetime(df['date'], errors='coerce')\n"
     ]
    }
   ],
   "source": [
    "df['date'] = pd.to_datetime(df['date'], errors='coerce')"
   ]
  },
  {
   "cell_type": "code",
   "execution_count": 10,
   "id": "5cf0e2ef-85e7-4b6d-8a0c-c9a0c6c0a963",
   "metadata": {},
   "outputs": [
    {
     "data": {
      "text/html": [
       "<div>\n",
       "<style scoped>\n",
       "    .dataframe tbody tr th:only-of-type {\n",
       "        vertical-align: middle;\n",
       "    }\n",
       "\n",
       "    .dataframe tbody tr th {\n",
       "        vertical-align: top;\n",
       "    }\n",
       "\n",
       "    .dataframe thead th {\n",
       "        text-align: right;\n",
       "    }\n",
       "</style>\n",
       "<table border=\"1\" class=\"dataframe\">\n",
       "  <thead>\n",
       "    <tr style=\"text-align: right;\">\n",
       "      <th></th>\n",
       "      <th>unit_price</th>\n",
       "      <th>quantity</th>\n",
       "      <th>tax</th>\n",
       "      <th>total</th>\n",
       "      <th>date</th>\n",
       "      <th>cogs</th>\n",
       "      <th>gross_margin</th>\n",
       "      <th>gross_income</th>\n",
       "      <th>rating</th>\n",
       "    </tr>\n",
       "  </thead>\n",
       "  <tbody>\n",
       "    <tr>\n",
       "      <th>count</th>\n",
       "      <td>996.000000</td>\n",
       "      <td>983.000000</td>\n",
       "      <td>1003.000000</td>\n",
       "      <td>1003.000000</td>\n",
       "      <td>1003</td>\n",
       "      <td>1003.000000</td>\n",
       "      <td>1.003000e+03</td>\n",
       "      <td>1003.000000</td>\n",
       "      <td>1003.000000</td>\n",
       "    </tr>\n",
       "    <tr>\n",
       "      <th>mean</th>\n",
       "      <td>55.764568</td>\n",
       "      <td>5.501526</td>\n",
       "      <td>15.400368</td>\n",
       "      <td>323.407726</td>\n",
       "      <td>2019-02-14 00:18:39.840478464</td>\n",
       "      <td>308.007358</td>\n",
       "      <td>4.761905e+00</td>\n",
       "      <td>15.400368</td>\n",
       "      <td>6.972682</td>\n",
       "    </tr>\n",
       "    <tr>\n",
       "      <th>min</th>\n",
       "      <td>10.080000</td>\n",
       "      <td>1.000000</td>\n",
       "      <td>0.508500</td>\n",
       "      <td>10.678500</td>\n",
       "      <td>2019-01-01 00:00:00</td>\n",
       "      <td>10.170000</td>\n",
       "      <td>4.761905e+00</td>\n",
       "      <td>0.508500</td>\n",
       "      <td>4.000000</td>\n",
       "    </tr>\n",
       "    <tr>\n",
       "      <th>25%</th>\n",
       "      <td>33.125000</td>\n",
       "      <td>3.000000</td>\n",
       "      <td>5.894750</td>\n",
       "      <td>123.789750</td>\n",
       "      <td>2019-01-24 00:00:00</td>\n",
       "      <td>117.895000</td>\n",
       "      <td>4.761905e+00</td>\n",
       "      <td>5.894750</td>\n",
       "      <td>5.500000</td>\n",
       "    </tr>\n",
       "    <tr>\n",
       "      <th>50%</th>\n",
       "      <td>55.420000</td>\n",
       "      <td>5.000000</td>\n",
       "      <td>12.096000</td>\n",
       "      <td>254.016000</td>\n",
       "      <td>2019-02-13 00:00:00</td>\n",
       "      <td>241.920000</td>\n",
       "      <td>4.761905e+00</td>\n",
       "      <td>12.096000</td>\n",
       "      <td>7.000000</td>\n",
       "    </tr>\n",
       "    <tr>\n",
       "      <th>75%</th>\n",
       "      <td>78.085000</td>\n",
       "      <td>8.000000</td>\n",
       "      <td>22.539500</td>\n",
       "      <td>473.329500</td>\n",
       "      <td>2019-03-08 00:00:00</td>\n",
       "      <td>450.790000</td>\n",
       "      <td>4.761905e+00</td>\n",
       "      <td>22.539500</td>\n",
       "      <td>8.500000</td>\n",
       "    </tr>\n",
       "    <tr>\n",
       "      <th>max</th>\n",
       "      <td>99.960000</td>\n",
       "      <td>10.000000</td>\n",
       "      <td>49.650000</td>\n",
       "      <td>1042.650000</td>\n",
       "      <td>2019-03-30 00:00:00</td>\n",
       "      <td>993.000000</td>\n",
       "      <td>4.761905e+00</td>\n",
       "      <td>49.650000</td>\n",
       "      <td>10.000000</td>\n",
       "    </tr>\n",
       "    <tr>\n",
       "      <th>std</th>\n",
       "      <td>26.510165</td>\n",
       "      <td>2.924673</td>\n",
       "      <td>11.715192</td>\n",
       "      <td>246.019028</td>\n",
       "      <td>NaN</td>\n",
       "      <td>234.303836</td>\n",
       "      <td>6.131488e-14</td>\n",
       "      <td>11.715192</td>\n",
       "      <td>1.717647</td>\n",
       "    </tr>\n",
       "  </tbody>\n",
       "</table>\n",
       "</div>"
      ],
      "text/plain": [
       "       unit_price    quantity          tax        total  \\\n",
       "count  996.000000  983.000000  1003.000000  1003.000000   \n",
       "mean    55.764568    5.501526    15.400368   323.407726   \n",
       "min     10.080000    1.000000     0.508500    10.678500   \n",
       "25%     33.125000    3.000000     5.894750   123.789750   \n",
       "50%     55.420000    5.000000    12.096000   254.016000   \n",
       "75%     78.085000    8.000000    22.539500   473.329500   \n",
       "max     99.960000   10.000000    49.650000  1042.650000   \n",
       "std     26.510165    2.924673    11.715192   246.019028   \n",
       "\n",
       "                                date         cogs  gross_margin  gross_income  \\\n",
       "count                           1003  1003.000000  1.003000e+03   1003.000000   \n",
       "mean   2019-02-14 00:18:39.840478464   308.007358  4.761905e+00     15.400368   \n",
       "min              2019-01-01 00:00:00    10.170000  4.761905e+00      0.508500   \n",
       "25%              2019-01-24 00:00:00   117.895000  4.761905e+00      5.894750   \n",
       "50%              2019-02-13 00:00:00   241.920000  4.761905e+00     12.096000   \n",
       "75%              2019-03-08 00:00:00   450.790000  4.761905e+00     22.539500   \n",
       "max              2019-03-30 00:00:00   993.000000  4.761905e+00     49.650000   \n",
       "std                              NaN   234.303836  6.131488e-14     11.715192   \n",
       "\n",
       "            rating  \n",
       "count  1003.000000  \n",
       "mean      6.972682  \n",
       "min       4.000000  \n",
       "25%       5.500000  \n",
       "50%       7.000000  \n",
       "75%       8.500000  \n",
       "max      10.000000  \n",
       "std       1.717647  "
      ]
     },
     "execution_count": 10,
     "metadata": {},
     "output_type": "execute_result"
    }
   ],
   "source": [
    "#summary statistics for every numeric (float) columns\n",
    "df.describe() "
   ]
  },
  {
   "cell_type": "markdown",
   "id": "ab0a52ce-8f17-4b29-8cdc-21a86885724e",
   "metadata": {},
   "source": [
    "## Data Cleaning and Preparation"
   ]
  },
  {
   "cell_type": "markdown",
   "id": "5591f2ef-4388-4051-8136-cbcbb9bdfb25",
   "metadata": {},
   "source": [
    "### Exploring Duplicated & Missing Data"
   ]
  },
  {
   "cell_type": "code",
   "execution_count": 13,
   "id": "1e775643-39bc-4d86-a9bd-a7935ea3d1d2",
   "metadata": {},
   "outputs": [
    {
     "data": {
      "text/plain": [
       "3"
      ]
     },
     "execution_count": 13,
     "metadata": {},
     "output_type": "execute_result"
    }
   ],
   "source": [
    "df.duplicated().sum()"
   ]
  },
  {
   "cell_type": "code",
   "execution_count": 14,
   "id": "aa28b7e8-03a2-4cef-8285-15e5e516bc70",
   "metadata": {},
   "outputs": [
    {
     "data": {
      "text/html": [
       "<div>\n",
       "<style scoped>\n",
       "    .dataframe tbody tr th:only-of-type {\n",
       "        vertical-align: middle;\n",
       "    }\n",
       "\n",
       "    .dataframe tbody tr th {\n",
       "        vertical-align: top;\n",
       "    }\n",
       "\n",
       "    .dataframe thead th {\n",
       "        text-align: right;\n",
       "    }\n",
       "</style>\n",
       "<table border=\"1\" class=\"dataframe\">\n",
       "  <thead>\n",
       "    <tr style=\"text-align: right;\">\n",
       "      <th></th>\n",
       "      <th>invoice_id</th>\n",
       "      <th>branch</th>\n",
       "      <th>city</th>\n",
       "      <th>customer</th>\n",
       "      <th>gender</th>\n",
       "      <th>product_line</th>\n",
       "      <th>unit_price</th>\n",
       "      <th>quantity</th>\n",
       "      <th>tax</th>\n",
       "      <th>total</th>\n",
       "      <th>date</th>\n",
       "      <th>time</th>\n",
       "      <th>payment</th>\n",
       "      <th>cogs</th>\n",
       "      <th>gross_margin</th>\n",
       "      <th>gross_income</th>\n",
       "      <th>rating</th>\n",
       "    </tr>\n",
       "  </thead>\n",
       "  <tbody>\n",
       "    <tr>\n",
       "      <th>1000</th>\n",
       "      <td>849-09-3807</td>\n",
       "      <td>A</td>\n",
       "      <td>Yangon</td>\n",
       "      <td>Member</td>\n",
       "      <td>Female</td>\n",
       "      <td>Fashion accessories</td>\n",
       "      <td>88.34</td>\n",
       "      <td>7.0</td>\n",
       "      <td>30.919</td>\n",
       "      <td>649.299</td>\n",
       "      <td>2019-02-18</td>\n",
       "      <td>13:28</td>\n",
       "      <td>Cash</td>\n",
       "      <td>618.38</td>\n",
       "      <td>4.761905</td>\n",
       "      <td>30.919</td>\n",
       "      <td>6.6</td>\n",
       "    </tr>\n",
       "    <tr>\n",
       "      <th>1001</th>\n",
       "      <td>745-74-0715</td>\n",
       "      <td>A</td>\n",
       "      <td>Yangon</td>\n",
       "      <td>Normal</td>\n",
       "      <td>Male</td>\n",
       "      <td>Electronic accessories</td>\n",
       "      <td>NaN</td>\n",
       "      <td>2.0</td>\n",
       "      <td>5.803</td>\n",
       "      <td>121.863</td>\n",
       "      <td>2019-03-10</td>\n",
       "      <td>20:46</td>\n",
       "      <td>Ewallet</td>\n",
       "      <td>116.06</td>\n",
       "      <td>4.761905</td>\n",
       "      <td>5.803</td>\n",
       "      <td>8.8</td>\n",
       "    </tr>\n",
       "    <tr>\n",
       "      <th>1002</th>\n",
       "      <td>452-04-8808</td>\n",
       "      <td>B</td>\n",
       "      <td>Mandalay</td>\n",
       "      <td>Normal</td>\n",
       "      <td>Male</td>\n",
       "      <td>Electronic accessories</td>\n",
       "      <td>87.08</td>\n",
       "      <td>NaN</td>\n",
       "      <td>30.478</td>\n",
       "      <td>640.038</td>\n",
       "      <td>2019-01-26</td>\n",
       "      <td>15:17</td>\n",
       "      <td>Cash</td>\n",
       "      <td>609.56</td>\n",
       "      <td>4.761905</td>\n",
       "      <td>30.478</td>\n",
       "      <td>5.5</td>\n",
       "    </tr>\n",
       "  </tbody>\n",
       "</table>\n",
       "</div>"
      ],
      "text/plain": [
       "       invoice_id branch      city customer  gender            product_line  \\\n",
       "1000  849-09-3807      A    Yangon   Member  Female     Fashion accessories   \n",
       "1001  745-74-0715      A    Yangon   Normal    Male  Electronic accessories   \n",
       "1002  452-04-8808      B  Mandalay   Normal    Male  Electronic accessories   \n",
       "\n",
       "      unit_price  quantity     tax    total       date   time  payment  \\\n",
       "1000       88.34       7.0  30.919  649.299 2019-02-18  13:28     Cash   \n",
       "1001         NaN       2.0   5.803  121.863 2019-03-10  20:46  Ewallet   \n",
       "1002       87.08       NaN  30.478  640.038 2019-01-26  15:17     Cash   \n",
       "\n",
       "        cogs  gross_margin  gross_income  rating  \n",
       "1000  618.38      4.761905        30.919     6.6  \n",
       "1001  116.06      4.761905         5.803     8.8  \n",
       "1002  609.56      4.761905        30.478     5.5  "
      ]
     },
     "execution_count": 14,
     "metadata": {},
     "output_type": "execute_result"
    }
   ],
   "source": [
    "df[df.duplicated()==True]"
   ]
  },
  {
   "cell_type": "code",
   "execution_count": 15,
   "id": "ff7185d9-335a-41d4-a95b-3fa82b8a6fdf",
   "metadata": {},
   "outputs": [
    {
     "data": {
      "text/plain": [
       "invoice_id       0\n",
       "branch           0\n",
       "city             0\n",
       "customer        79\n",
       "gender           0\n",
       "product_line    43\n",
       "unit_price       7\n",
       "quantity        20\n",
       "tax              0\n",
       "total            0\n",
       "date             0\n",
       "time             0\n",
       "payment          0\n",
       "cogs             0\n",
       "gross_margin     0\n",
       "gross_income     0\n",
       "rating           0\n",
       "dtype: int64"
      ]
     },
     "execution_count": 15,
     "metadata": {},
     "output_type": "execute_result"
    }
   ],
   "source": [
    "df.isnull().sum()"
   ]
  },
  {
   "cell_type": "code",
   "execution_count": 16,
   "id": "4b2d2b09-8dd0-4079-a966-e96e986b0d99",
   "metadata": {},
   "outputs": [
    {
     "data": {
      "text/plain": [
       "invoice_id      0.000000\n",
       "branch          0.000000\n",
       "city            0.000000\n",
       "customer        0.078764\n",
       "gender          0.000000\n",
       "product_line    0.042871\n",
       "unit_price      0.006979\n",
       "quantity        0.019940\n",
       "tax             0.000000\n",
       "total           0.000000\n",
       "date            0.000000\n",
       "time            0.000000\n",
       "payment         0.000000\n",
       "cogs            0.000000\n",
       "gross_margin    0.000000\n",
       "gross_income    0.000000\n",
       "rating          0.000000\n",
       "dtype: float64"
      ]
     },
     "execution_count": 16,
     "metadata": {},
     "output_type": "execute_result"
    }
   ],
   "source": [
    "df.isna().sum()/len(df)"
   ]
  },
  {
   "cell_type": "code",
   "execution_count": 17,
   "id": "848e620c-4233-45c1-8020-4cf6a3f9b915",
   "metadata": {},
   "outputs": [
    {
     "data": {
      "text/plain": [
       "<Axes: >"
      ]
     },
     "execution_count": 17,
     "metadata": {},
     "output_type": "execute_result"
    },
    {
     "data": {
      "image/png": "[encoded data removed]",
      "text/plain": [
       "<Figure size 640x480 with 1 Axes>"
      ]
     },
     "metadata": {},
     "output_type": "display_data"
    }
   ],
   "source": [
    "sns.heatmap(df.isnull(),cbar=False)"
   ]
  },
  {
   "cell_type": "markdown",
   "id": "feb58c73-19ca-4774-96de-62fcf5ffd9e5",
   "metadata": {},
   "source": [
    "We can see here that we got 2 types of data in the missing data. Categorical (customer & product_line) and Numerical (unit_price & quantity). We would have to use two different ways to fill those up. We will use mean() to fill up the numerical data and then use mode() to fill up the categorical data."
   ]
  },
  {
   "cell_type": "markdown",
   "id": "74a5fb07-6055-4ff7-8b41-73a3b17589c9",
   "metadata": {},
   "source": [
    "### Dealing with Duplicated & Missing Data"
   ]
  },
  {
   "cell_type": "code",
   "execution_count": 20,
   "id": "89c33340-4e38-4678-a1e2-99697bbcc195",
   "metadata": {},
   "outputs": [
    {
     "data": {
      "text/plain": [
       "0"
      ]
     },
     "execution_count": 20,
     "metadata": {},
     "output_type": "execute_result"
    }
   ],
   "source": [
    "#Dropping duplicated data\n",
    "df.drop_duplicates(inplace=True)\n",
    "df.duplicated().sum()"
   ]
  },
  {
   "cell_type": "code",
   "execution_count": 21,
   "id": "8fbe0e9d-0f84-42ae-924f-0a5794dbcb58",
   "metadata": {},
   "outputs": [
    {
     "name": "stdout",
     "output_type": "stream",
     "text": [
      "(1000, 17)\n"
     ]
    }
   ],
   "source": [
    "print(df.shape)"
   ]
  },
  {
   "cell_type": "markdown",
   "id": "f0c4159a-792b-4c34-8d37-3fe091462ac1",
   "metadata": {},
   "source": [
    "#### Handling Categorical Missing Data (customer and product_line):"
   ]
  },
  {
   "cell_type": "code",
   "execution_count": 23,
   "id": "7bc36000-53e4-4b1d-8446-402707aae1bb",
   "metadata": {},
   "outputs": [
    {
     "data": {
      "text/plain": [
       "invoice_id              101-17-6199\n",
       "branch                            A\n",
       "city                         Yangon\n",
       "customer                     Normal\n",
       "gender                       Female\n",
       "product_line    Fashion accessories\n",
       "unit_price                    83.77\n",
       "quantity                       10.0\n",
       "tax                           4.154\n",
       "total                        87.234\n",
       "date            2019-02-07 00:00:00\n",
       "time                          14:42\n",
       "payment                     Ewallet\n",
       "cogs                          83.08\n",
       "gross_margin               4.761905\n",
       "gross_income                  4.154\n",
       "rating                          6.0\n",
       "Name: 0, dtype: object"
      ]
     },
     "execution_count": 23,
     "metadata": {},
     "output_type": "execute_result"
    }
   ],
   "source": [
    "df.mode().iloc[0]"
   ]
  },
  {
   "cell_type": "code",
   "execution_count": 24,
   "id": "4d8f98a9-3dd6-455f-801a-c1cf58c57cf8",
   "metadata": {},
   "outputs": [],
   "source": [
    "df['customer'] = df['customer'].fillna(df['customer'].mode()[0])\n",
    "df['product_line'] = df['product_line'].fillna(df['product_line'].mode()[0])"
   ]
  },
  {
   "cell_type": "markdown",
   "id": "899b2cc8-e4bf-436e-8651-267e9e973dbd",
   "metadata": {},
   "source": [
    "#### Handling Numerical Missing Data (unit_price and quantity):"
   ]
  },
  {
   "cell_type": "code",
   "execution_count": 64,
   "id": "db08b5f2-cb6a-486f-a128-b305f1fdfb75",
   "metadata": {},
   "outputs": [
    {
     "name": "stdout",
     "output_type": "stream",
     "text": [
      "unit_price    55.700292\n",
      "quantity       5.503568\n",
      "dtype: float64\n"
     ]
    }
   ],
   "source": [
    "columns_of_interest = ['unit_price', 'quantity']\n",
    "mean_values = df[columns_of_interest].mean()\n",
    "print(mean_values)"
   ]
  },
  {
   "cell_type": "code",
   "execution_count": 26,
   "id": "faf11eb4-17ac-4264-8ebd-8452357d5795",
   "metadata": {},
   "outputs": [],
   "source": [
    "df['unit_price'] = df['unit_price'].fillna(df['unit_price'].mean())\n",
    "df['quantity'] = df['quantity'].fillna(df['quantity'].mean())"
   ]
  },
  {
   "cell_type": "markdown",
   "id": "58b8246d-9692-4493-85c3-1e31ae75bf31",
   "metadata": {},
   "source": [
    "#### Validating that the Missing Values are all Dealt with"
   ]
  },
  {
   "cell_type": "code",
   "execution_count": 28,
   "id": "62268ab2-9a21-4a0b-9f2c-0e69cffd4fff",
   "metadata": {},
   "outputs": [
    {
     "data": {
      "text/plain": [
       "<Axes: >"
      ]
     },
     "execution_count": 28,
     "metadata": {},
     "output_type": "execute_result"
    },
    {
     "data": {
      "image/png": "[encoded data removed]",
      "text/plain": [
       "<Figure size 640x480 with 1 Axes>"
      ]
     },
     "metadata": {},
     "output_type": "display_data"
    }
   ],
   "source": [
    "sns.heatmap(df.isnull(),cbar=False)"
   ]
  },
  {
   "cell_type": "markdown",
   "id": "f0c9d70d-0791-4a25-a2bb-6f2b9b8d612c",
   "metadata": {},
   "source": [
    "## Data Transformation\n",
    "I will be adding three extra columns:\n",
    "- total_price (excluding 5% tax from total)\n",
    "- day (day of the week the transaction occur)\n",
    "- time_period (Morning, Afternoon, Evening)"
   ]
  },
  {
   "cell_type": "code",
   "execution_count": 30,
   "id": "56e9201e-6adc-46a3-b7eb-c617e80a24e7",
   "metadata": {},
   "outputs": [],
   "source": [
    "df['total_price'] = df['total'] - df['tax']"
   ]
  },
  {
   "cell_type": "code",
   "execution_count": 31,
   "id": "a84fe380-9b84-4513-b22c-f4daa012ecf9",
   "metadata": {},
   "outputs": [],
   "source": [
    "df['date'] = pd.to_datetime(df['date'])\n",
    "df['day'] = df['date'].dt.day_name()"
   ]
  },
  {
   "cell_type": "code",
   "execution_count": 32,
   "id": "ddc491df-c93a-4fcf-bff7-73d285b280a5",
   "metadata": {},
   "outputs": [
    {
     "name": "stderr",
     "output_type": "stream",
     "text": [
      "/var/folders/x9/8yncv2h56z39xy5j_7yfz6cr0000gn/T/ipykernel_14524/3509555616.py:11: UserWarning: Could not infer format, so each element will be parsed individually, falling back to `dateutil`. To ensure parsing is consistent and as-expected, please specify a format.\n",
      "  df['time_period'] = pd.to_datetime(df['time'].astype(str)).dt.hour.apply(classify_time)\n"
     ]
    }
   ],
   "source": [
    "df['time'] = pd.to_datetime(df['time'], format='%H:%M', errors='coerce').dt.time\n",
    "\n",
    "def classify_time(hour):\n",
    "    if hour < 12:\n",
    "        return 'Morning'\n",
    "    elif hour < 18:\n",
    "        return 'Afternoon'\n",
    "    else:\n",
    "        return 'Evening'\n",
    "\n",
    "df['time_period'] = pd.to_datetime(df['time'].astype(str)).dt.hour.apply(classify_time)"
   ]
  },
  {
   "cell_type": "code",
   "execution_count": 33,
   "id": "d29fbdcf-b28b-4d35-bed7-bd090c36c2b5",
   "metadata": {},
   "outputs": [
    {
     "name": "stdout",
     "output_type": "stream",
     "text": [
      "<class 'pandas.core.frame.DataFrame'>\n",
      "Index: 1000 entries, 0 to 999\n",
      "Data columns (total 20 columns):\n",
      " #   Column        Non-Null Count  Dtype         \n",
      "---  ------        --------------  -----         \n",
      " 0   invoice_id    1000 non-null   object        \n",
      " 1   branch        1000 non-null   object        \n",
      " 2   city          1000 non-null   object        \n",
      " 3   customer      1000 non-null   object        \n",
      " 4   gender        1000 non-null   object        \n",
      " 5   product_line  1000 non-null   object        \n",
      " 6   unit_price    1000 non-null   float64       \n",
      " 7   quantity      1000 non-null   float64       \n",
      " 8   tax           1000 non-null   float64       \n",
      " 9   total         1000 non-null   float64       \n",
      " 10  date          1000 non-null   datetime64[ns]\n",
      " 11  time          1000 non-null   object        \n",
      " 12  payment       1000 non-null   object        \n",
      " 13  cogs          1000 non-null   float64       \n",
      " 14  gross_margin  1000 non-null   float64       \n",
      " 15  gross_income  1000 non-null   float64       \n",
      " 16  rating        1000 non-null   float64       \n",
      " 17  total_price   1000 non-null   float64       \n",
      " 18  day           1000 non-null   object        \n",
      " 19  time_period   1000 non-null   object        \n",
      "dtypes: datetime64[ns](1), float64(9), object(10)\n",
      "memory usage: 164.1+ KB\n"
     ]
    }
   ],
   "source": [
    "df.info()"
   ]
  },
  {
   "cell_type": "markdown",
   "id": "a10cba5e-e99e-408b-8e68-c5248ce93281",
   "metadata": {},
   "source": [
    "## Saving Cleaned Data"
   ]
  },
  {
   "cell_type": "code",
   "execution_count": 35,
   "id": "ba638b61-00da-4cbc-ac51-d01e545c9796",
   "metadata": {},
   "outputs": [
    {
     "name": "stdout",
     "output_type": "stream",
     "text": [
      "cleaned dataset saved.\n"
     ]
    }
   ],
   "source": [
    "df.to_csv('cleaned_supermarket_sales.csv', index=False)\n",
    "print(\"cleaned dataset saved.\")"
   ]
  },
  {
   "cell_type": "code",
   "execution_count": null,
   "id": "207b7a5e-ce34-4410-a10c-60eeb7cfe681",
   "metadata": {},
   "outputs": [],
   "source": []
  },
  {
   "cell_type": "code",
   "execution_count": null,
   "id": "484b28a4-da7a-4aea-96e0-faebce975cfc",
   "metadata": {},
   "outputs": [],
   "source": []
  },
  {
   "cell_type": "code",
   "execution_count": null,
   "id": "b65bd0b7-6bc4-4d7e-8a60-57387167fa11",
   "metadata": {},
   "outputs": [],
   "source": []
  },
  {
   "cell_type": "code",
   "execution_count": null,
   "id": "8bec91df-4939-46c8-a65f-17606576d7ea",
   "metadata": {},
   "outputs": [],
   "source": []
  },
  {
   "cell_type": "code",
   "execution_count": null,
   "id": "ae8b4fb8-48f6-4c58-b7af-649c9096f83a",
   "metadata": {},
   "outputs": [],
   "source": []
  },
  {
   "cell_type": "code",
   "execution_count": null,
   "id": "3b166a23-d8cc-463c-9dd4-817bd65ce572",
   "metadata": {},
   "outputs": [],
   "source": []
  },
  {
   "cell_type": "code",
   "execution_count": null,
   "id": "0325b02f-439f-4009-9e4c-e5b5f8bdc2df",
   "metadata": {},
   "outputs": [],
   "source": []
  },
  {
   "cell_type": "code",
   "execution_count": null,
   "id": "e1145cf8-475d-43bb-bfa7-1dfc3fc5250a",
   "metadata": {},
   "outputs": [],
   "source": []
  },
  {
   "cell_type": "code",
   "execution_count": null,
   "id": "1d3b7476-aae9-42d0-8bb2-91293caf7258",
   "metadata": {},
   "outputs": [],
   "source": []
  },
  {
   "cell_type": "code",
   "execution_count": null,
   "id": "70a010b4-7cd1-422e-b7bb-9f87f01f49bc",
   "metadata": {},
   "outputs": [],
   "source": []
  },
  {
   "cell_type": "code",
   "execution_count": null,
   "id": "b8ab67ba-d1b1-433a-9acb-75c7b420c29d",
   "metadata": {},
   "outputs": [],
   "source": []
  },
  {
   "cell_type": "code",
   "execution_count": null,
   "id": "2ba335c3-0bd7-4392-a4dd-b77dde5ddaf5",
   "metadata": {},
   "outputs": [],
   "source": []
  },
  {
   "cell_type": "code",
   "execution_count": null,
   "id": "8cc143d9-116b-478d-8767-14c93fe5f07d",
   "metadata": {},
   "outputs": [],
   "source": []
  },
  {
   "cell_type": "code",
   "execution_count": null,
   "id": "e4338b26-13fb-485b-b04f-40c59e2300ba",
   "metadata": {},
   "outputs": [],
   "source": []
  },
  {
   "cell_type": "code",
   "execution_count": null,
   "id": "6bdd1d9b-dfb2-4932-91b4-c1247a7fd359",
   "metadata": {},
   "outputs": [],
   "source": []
  },
  {
   "cell_type": "code",
   "execution_count": null,
   "id": "2110b4f4-b31f-416a-bed4-daa71227f213",
   "metadata": {},
   "outputs": [],
   "source": []
  },
  {
   "cell_type": "code",
   "execution_count": null,
   "id": "baf635f5-b6fe-4cfd-ac5e-42e41a4e7c42",
   "metadata": {},
   "outputs": [],
   "source": []
  },
  {
   "cell_type": "code",
   "execution_count": null,
   "id": "bfd3edb2-6b10-4a9e-ae64-7ebda2022be3",
   "metadata": {},
   "outputs": [],
   "source": []
  },
  {
   "cell_type": "code",
   "execution_count": null,
   "id": "4a2cd786-7206-44be-9bc3-fbd7a9cb69a1",
   "metadata": {},
   "outputs": [],
   "source": []
  },
  {
   "cell_type": "code",
   "execution_count": null,
   "id": "dac88a37-f492-4164-bb08-4a2f8b6fd420",
   "metadata": {},
   "outputs": [],
   "source": []
  }
 ],
 "metadata": {
  "kernelspec": {
   "display_name": "Python 3 (ipykernel)",
   "language": "python",
   "name": "python3"
  },
  "language_info": {
   "codemirror_mode": {
    "name": "ipython",
    "version": 3
   },
   "file_extension": ".py",
   "mimetype": "text/x-python",
   "name": "python",
   "nbconvert_exporter": "python",
   "pygments_lexer": "ipython3",
   "version": "3.12.4"
  }
 },
 "nbformat": 4,
 "nbformat_minor": 5
}
