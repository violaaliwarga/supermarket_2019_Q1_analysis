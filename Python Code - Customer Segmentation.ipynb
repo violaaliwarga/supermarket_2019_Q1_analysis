{
 "cells": [
  {
   "cell_type": "markdown",
   "id": "e62e9cef-727a-4e46-9d6f-eee853797620",
   "metadata": {},
   "source": [
    "# Supermarket Sales: January 2019 - March 2019"
   ]
  },
  {
   "cell_type": "markdown",
   "id": "31be6dd6-71d7-4b44-a522-53b73b67668e",
   "metadata": {},
   "source": [
    "# Customer Segmentation"
   ]
  },
  {
   "cell_type": "markdown",
   "id": "eb16d2f9-dc42-4bfc-81cc-cb1e605338b8",
   "metadata": {},
   "source": [
    "## Preparing environment"
   ]
  },
  {
   "cell_type": "code",
   "execution_count": 4,
   "id": "0669b4c7-94bc-45cf-869a-3c8efbef4ce6",
   "metadata": {},
   "outputs": [],
   "source": [
    "import pandas as pd\n",
    "from sklearn.cluster import KMeans\n",
    "import matplotlib.pyplot as plt\n",
    "import seaborn as sns"
   ]
  },
  {
   "cell_type": "markdown",
   "id": "62d29480-47ee-4a8f-b9b3-39aed53b263b",
   "metadata": {},
   "source": [
    "## Loading dataset"
   ]
  },
  {
   "cell_type": "code",
   "execution_count": 6,
   "id": "a36f33b5-5cf4-4a9f-9059-446e0f8a14be",
   "metadata": {},
   "outputs": [],
   "source": [
    "data = pd.read_csv('cleaned_supermarket_sales.csv')"
   ]
  },
  {
   "cell_type": "markdown",
   "id": "7528f0a9-d660-4786-bc22-fdac312c8e1a",
   "metadata": {},
   "source": [
    "## Calculating frequency of purchases"
   ]
  },
  {
   "cell_type": "code",
   "execution_count": 8,
   "id": "7eb54525-0335-4052-a20c-e1d72ec3a698",
   "metadata": {},
   "outputs": [],
   "source": [
    "data['frequency'] = data.groupby('customer')['invoice_id'].transform('count')"
   ]
  },
  {
   "cell_type": "markdown",
   "id": "1e386a58-a0ac-4116-83e1-2290c56401f1",
   "metadata": {},
   "source": [
    "## Selecting features for clustering"
   ]
  },
  {
   "cell_type": "code",
   "execution_count": 10,
   "id": "03cf8c81-7946-4d34-a24b-1a1ff7e68863",
   "metadata": {},
   "outputs": [],
   "source": [
    "features = data[['total', 'frequency']]"
   ]
  },
  {
   "cell_type": "markdown",
   "id": "805dc3e5-e307-4646-a008-8aa0be369a8b",
   "metadata": {},
   "source": [
    "## Applying K-Means clustering"
   ]
  },
  {
   "cell_type": "code",
   "execution_count": 12,
   "id": "9c72470f-b0f0-40d8-a297-48e29d64760c",
   "metadata": {},
   "outputs": [],
   "source": [
    "kmeans = KMeans(n_clusters=3, random_state=0)\n",
    "data['cluster'] = kmeans.fit_predict(features)"
   ]
  },
  {
   "cell_type": "markdown",
   "id": "14a1ec43-f40e-4111-8e9b-f2244e963cfc",
   "metadata": {},
   "source": [
    "## Aggregating data by cluster"
   ]
  },
  {
   "cell_type": "code",
   "execution_count": 14,
   "id": "876a7728-bfb5-41f8-9bde-2922ab7060f5",
   "metadata": {},
   "outputs": [],
   "source": [
    "cluster_summary = data.groupby('cluster').agg({\n",
    "    'total': ['mean', 'sum'],\n",
    "    'quantity': 'mean',\n",
    "    'frequency': 'mean'\n",
    "}).reset_index()"
   ]
  },
  {
   "cell_type": "markdown",
   "id": "2c9654d4-c0f4-4269-ab93-f4c1e5ccfffb",
   "metadata": {},
   "source": [
    "## Renaming columns for clarity"
   ]
  },
  {
   "cell_type": "code",
   "execution_count": 16,
   "id": "938611f6-1be9-44d8-8f3f-bbda7cb616a4",
   "metadata": {},
   "outputs": [
    {
     "name": "stdout",
     "output_type": "stream",
     "text": [
      "   Cluster  Average Total Spent  Total Spent  Average Quantity  \\\n",
      "0        0           135.244664   71544.4275          3.900830   \n",
      "1        1           760.690500  127796.0040          8.642900   \n",
      "2        2           408.007649  123626.3175          6.561127   \n",
      "\n",
      "   Average Frequency  \n",
      "0         505.419660  \n",
      "1         502.238095  \n",
      "2         503.877888  \n"
     ]
    }
   ],
   "source": [
    "cluster_summary.columns = ['Cluster', 'Average Total Spent', 'Total Spent', \n",
    "                           'Average Quantity', 'Average Frequency']\n",
    "print(cluster_summary)"
   ]
  }
 ],
 "metadata": {
  "kernelspec": {
   "display_name": "Python 3 (ipykernel)",
   "language": "python",
   "name": "python3"
  },
  "language_info": {
   "codemirror_mode": {
    "name": "ipython",
    "version": 3
   },
   "file_extension": ".py",
   "mimetype": "text/x-python",
   "name": "python",
   "nbconvert_exporter": "python",
   "pygments_lexer": "ipython3",
   "version": "3.12.4"
  }
 },
 "nbformat": 4,
 "nbformat_minor": 5
}
